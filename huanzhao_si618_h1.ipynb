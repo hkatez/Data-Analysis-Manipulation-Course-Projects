{
 "cells": [
  {
   "cell_type": "markdown",
   "metadata": {},
   "source": [
    "## SI 618 HW1\n",
    "⁃\tIntroduction: "
   ]
  },
  {
   "cell_type": "markdown",
   "metadata": {},
   "source": [
    "⁃\tQ1: Load the dataset. "
   ]
  },
  {
   "cell_type": "code",
   "execution_count": 1,
   "metadata": {
    "scrolled": true
   },
   "outputs": [
    {
     "data": {
      "text/html": [
       "<div>\n",
       "<style scoped>\n",
       "    .dataframe tbody tr th:only-of-type {\n",
       "        vertical-align: middle;\n",
       "    }\n",
       "\n",
       "    .dataframe tbody tr th {\n",
       "        vertical-align: top;\n",
       "    }\n",
       "\n",
       "    .dataframe thead th {\n",
       "        text-align: right;\n",
       "    }\n",
       "</style>\n",
       "<table border=\"1\" class=\"dataframe\">\n",
       "  <thead>\n",
       "    <tr style=\"text-align: right;\">\n",
       "      <th></th>\n",
       "      <th>book_authors</th>\n",
       "      <th>book_desc</th>\n",
       "      <th>book_edition</th>\n",
       "      <th>book_format</th>\n",
       "      <th>book_isbn</th>\n",
       "      <th>book_pages</th>\n",
       "      <th>book_rating</th>\n",
       "      <th>book_rating_count</th>\n",
       "      <th>book_review_count</th>\n",
       "      <th>book_title</th>\n",
       "      <th>genres</th>\n",
       "      <th>image_url</th>\n",
       "    </tr>\n",
       "  </thead>\n",
       "  <tbody>\n",
       "    <tr>\n",
       "      <td>0</td>\n",
       "      <td>Kristin Hannah</td>\n",
       "      <td>Alaska, 1974.Unpredictable. Unforgiving. Untam...</td>\n",
       "      <td>NaN</td>\n",
       "      <td>Kindle Edition</td>\n",
       "      <td>NaN</td>\n",
       "      <td>435 pages</td>\n",
       "      <td>4.33</td>\n",
       "      <td>146505</td>\n",
       "      <td>17438</td>\n",
       "      <td>The Great Alone</td>\n",
       "      <td>Fiction|Historical|Historical Fiction|Audioboo...</td>\n",
       "      <td>https://images.gr-assets.com/books/1501852423l...</td>\n",
       "    </tr>\n",
       "    <tr>\n",
       "      <td>1</td>\n",
       "      <td>Madeline Miller</td>\n",
       "      <td>In the house of Helios, god of the sun and mig...</td>\n",
       "      <td>NaN</td>\n",
       "      <td>Hardcover</td>\n",
       "      <td>9.780000e+12</td>\n",
       "      <td>393 pages</td>\n",
       "      <td>4.34</td>\n",
       "      <td>61357</td>\n",
       "      <td>9369</td>\n",
       "      <td>Circe</td>\n",
       "      <td>Fantasy|Fiction|Fantasy|Mythology|Historical|H...</td>\n",
       "      <td>https://images.gr-assets.com/books/1508879575l...</td>\n",
       "    </tr>\n",
       "    <tr>\n",
       "      <td>2</td>\n",
       "      <td>Holly Black</td>\n",
       "      <td>Of course I want to be like them. They’re beau...</td>\n",
       "      <td>NaN</td>\n",
       "      <td>Hardcover</td>\n",
       "      <td>9.780000e+12</td>\n",
       "      <td>370 pages</td>\n",
       "      <td>4.18</td>\n",
       "      <td>62897</td>\n",
       "      <td>11948</td>\n",
       "      <td>The Cruel Prince</td>\n",
       "      <td>Fantasy|Young Adult|Fairies|Fae</td>\n",
       "      <td>https://images.gr-assets.com/books/1493047153l...</td>\n",
       "    </tr>\n",
       "    <tr>\n",
       "      <td>3</td>\n",
       "      <td>A.J. Finn</td>\n",
       "      <td>Anna Fox lives alone—a recluse in her New York...</td>\n",
       "      <td>NaN</td>\n",
       "      <td>Kindle Edition</td>\n",
       "      <td>NaN</td>\n",
       "      <td>449 pages</td>\n",
       "      <td>3.97</td>\n",
       "      <td>175678</td>\n",
       "      <td>20645</td>\n",
       "      <td>The Woman in the Window</td>\n",
       "      <td>Mystery|Thriller|Fiction|Suspense|Thriller|Mys...</td>\n",
       "      <td>https://images.gr-assets.com/books/1528225499l...</td>\n",
       "    </tr>\n",
       "    <tr>\n",
       "      <td>4</td>\n",
       "      <td>Tara Westover</td>\n",
       "      <td>An unforgettable memoir in the tradition of Th...</td>\n",
       "      <td>NaN</td>\n",
       "      <td>Hardcover</td>\n",
       "      <td>9.780000e+12</td>\n",
       "      <td>334 pages</td>\n",
       "      <td>4.47</td>\n",
       "      <td>128337</td>\n",
       "      <td>16424</td>\n",
       "      <td>Educated</td>\n",
       "      <td>Nonfiction|Autobiography|Memoir|Biography</td>\n",
       "      <td>https://images.gr-assets.com/books/1506026635l...</td>\n",
       "    </tr>\n",
       "  </tbody>\n",
       "</table>\n",
       "</div>"
      ],
      "text/plain": [
       "      book_authors                                          book_desc  \\\n",
       "0   Kristin Hannah  Alaska, 1974.Unpredictable. Unforgiving. Untam...   \n",
       "1  Madeline Miller  In the house of Helios, god of the sun and mig...   \n",
       "2      Holly Black  Of course I want to be like them. They’re beau...   \n",
       "3        A.J. Finn  Anna Fox lives alone—a recluse in her New York...   \n",
       "4    Tara Westover  An unforgettable memoir in the tradition of Th...   \n",
       "\n",
       "  book_edition     book_format     book_isbn book_pages  book_rating  \\\n",
       "0          NaN  Kindle Edition           NaN  435 pages         4.33   \n",
       "1          NaN       Hardcover  9.780000e+12  393 pages         4.34   \n",
       "2          NaN       Hardcover  9.780000e+12  370 pages         4.18   \n",
       "3          NaN  Kindle Edition           NaN  449 pages         3.97   \n",
       "4          NaN       Hardcover  9.780000e+12  334 pages         4.47   \n",
       "\n",
       "   book_rating_count  book_review_count               book_title  \\\n",
       "0             146505              17438          The Great Alone   \n",
       "1              61357               9369                    Circe   \n",
       "2              62897              11948         The Cruel Prince   \n",
       "3             175678              20645  The Woman in the Window   \n",
       "4             128337              16424                 Educated   \n",
       "\n",
       "                                              genres  \\\n",
       "0  Fiction|Historical|Historical Fiction|Audioboo...   \n",
       "1  Fantasy|Fiction|Fantasy|Mythology|Historical|H...   \n",
       "2                    Fantasy|Young Adult|Fairies|Fae   \n",
       "3  Mystery|Thriller|Fiction|Suspense|Thriller|Mys...   \n",
       "4          Nonfiction|Autobiography|Memoir|Biography   \n",
       "\n",
       "                                           image_url  \n",
       "0  https://images.gr-assets.com/books/1501852423l...  \n",
       "1  https://images.gr-assets.com/books/1508879575l...  \n",
       "2  https://images.gr-assets.com/books/1493047153l...  \n",
       "3  https://images.gr-assets.com/books/1528225499l...  \n",
       "4  https://images.gr-assets.com/books/1506026635l...  "
      ]
     },
     "execution_count": 1,
     "metadata": {},
     "output_type": "execute_result"
    }
   ],
   "source": [
    "import pandas as pd\n",
    "import numpy as np\n",
    "\n",
    "books = pd.read_csv('book_data.csv')\n",
    "books.head()"
   ]
  },
  {
   "cell_type": "code",
   "execution_count": 2,
   "metadata": {},
   "outputs": [
    {
     "data": {
      "text/plain": [
       "book_authors          object\n",
       "book_desc             object\n",
       "book_edition          object\n",
       "book_format           object\n",
       "book_isbn            float64\n",
       "book_pages            object\n",
       "book_rating          float64\n",
       "book_rating_count      int64\n",
       "book_review_count      int64\n",
       "book_title            object\n",
       "genres                object\n",
       "image_url             object\n",
       "dtype: object"
      ]
     },
     "execution_count": 2,
     "metadata": {},
     "output_type": "execute_result"
    }
   ],
   "source": [
    "# check data types\n",
    "books.dtypes"
   ]
  },
  {
   "cell_type": "markdown",
   "metadata": {},
   "source": [
    "⁃\tQ2: How many books are there? "
   ]
  },
  {
   "cell_type": "code",
   "execution_count": 3,
   "metadata": {},
   "outputs": [
    {
     "data": {
      "text/plain": [
       "1141"
      ]
     },
     "execution_count": 3,
     "metadata": {},
     "output_type": "execute_result"
    }
   ],
   "source": [
    "len(books.index)"
   ]
  },
  {
   "cell_type": "markdown",
   "metadata": {},
   "source": [
    "⁃\tQ3: How many books have more than 1 author? "
   ]
  },
  {
   "cell_type": "code",
   "execution_count": 4,
   "metadata": {
    "scrolled": true
   },
   "outputs": [
    {
     "data": {
      "text/plain": [
       "144"
      ]
     },
     "execution_count": 4,
     "metadata": {},
     "output_type": "execute_result"
    }
   ],
   "source": [
    "len(books[books['book_authors'].str.contains('|', regex = False)])"
   ]
  },
  {
   "cell_type": "markdown",
   "metadata": {},
   "source": [
    "⁃\tLength: "
   ]
  },
  {
   "cell_type": "markdown",
   "metadata": {},
   "source": [
    "⁃\tQ4: You will want to create a new column with the integer value of the number of pages. (If you remove rows in this process, please state why.) "
   ]
  },
  {
   "cell_type": "code",
   "execution_count": 5,
   "metadata": {},
   "outputs": [],
   "source": [
    "# remove the rows with NaN value because they are invalid data which will effect furthur processing\n",
    "books = books.dropna(subset=['book_pages'])"
   ]
  },
  {
   "cell_type": "code",
   "execution_count": 6,
   "metadata": {
    "scrolled": true
   },
   "outputs": [],
   "source": [
    "# then create new column book_pages_int\n",
    "books['book_pages_int'] = books['book_pages'].str.split(\" \", n = 1, expand = True).loc[:,[0]]"
   ]
  },
  {
   "cell_type": "code",
   "execution_count": 7,
   "metadata": {},
   "outputs": [
    {
     "data": {
      "text/html": [
       "<div>\n",
       "<style scoped>\n",
       "    .dataframe tbody tr th:only-of-type {\n",
       "        vertical-align: middle;\n",
       "    }\n",
       "\n",
       "    .dataframe tbody tr th {\n",
       "        vertical-align: top;\n",
       "    }\n",
       "\n",
       "    .dataframe thead th {\n",
       "        text-align: right;\n",
       "    }\n",
       "</style>\n",
       "<table border=\"1\" class=\"dataframe\">\n",
       "  <thead>\n",
       "    <tr style=\"text-align: right;\">\n",
       "      <th></th>\n",
       "      <th>book_authors</th>\n",
       "      <th>book_desc</th>\n",
       "      <th>book_edition</th>\n",
       "      <th>book_format</th>\n",
       "      <th>book_isbn</th>\n",
       "      <th>book_pages</th>\n",
       "      <th>book_rating</th>\n",
       "      <th>book_rating_count</th>\n",
       "      <th>book_review_count</th>\n",
       "      <th>book_title</th>\n",
       "      <th>genres</th>\n",
       "      <th>image_url</th>\n",
       "      <th>book_pages_int</th>\n",
       "    </tr>\n",
       "  </thead>\n",
       "  <tbody>\n",
       "    <tr>\n",
       "      <td>0</td>\n",
       "      <td>Kristin Hannah</td>\n",
       "      <td>Alaska, 1974.Unpredictable. Unforgiving. Untam...</td>\n",
       "      <td>NaN</td>\n",
       "      <td>Kindle Edition</td>\n",
       "      <td>NaN</td>\n",
       "      <td>435 pages</td>\n",
       "      <td>4.33</td>\n",
       "      <td>146505</td>\n",
       "      <td>17438</td>\n",
       "      <td>The Great Alone</td>\n",
       "      <td>Fiction|Historical|Historical Fiction|Audioboo...</td>\n",
       "      <td>https://images.gr-assets.com/books/1501852423l...</td>\n",
       "      <td>435</td>\n",
       "    </tr>\n",
       "    <tr>\n",
       "      <td>1</td>\n",
       "      <td>Madeline Miller</td>\n",
       "      <td>In the house of Helios, god of the sun and mig...</td>\n",
       "      <td>NaN</td>\n",
       "      <td>Hardcover</td>\n",
       "      <td>9.780000e+12</td>\n",
       "      <td>393 pages</td>\n",
       "      <td>4.34</td>\n",
       "      <td>61357</td>\n",
       "      <td>9369</td>\n",
       "      <td>Circe</td>\n",
       "      <td>Fantasy|Fiction|Fantasy|Mythology|Historical|H...</td>\n",
       "      <td>https://images.gr-assets.com/books/1508879575l...</td>\n",
       "      <td>393</td>\n",
       "    </tr>\n",
       "    <tr>\n",
       "      <td>2</td>\n",
       "      <td>Holly Black</td>\n",
       "      <td>Of course I want to be like them. They’re beau...</td>\n",
       "      <td>NaN</td>\n",
       "      <td>Hardcover</td>\n",
       "      <td>9.780000e+12</td>\n",
       "      <td>370 pages</td>\n",
       "      <td>4.18</td>\n",
       "      <td>62897</td>\n",
       "      <td>11948</td>\n",
       "      <td>The Cruel Prince</td>\n",
       "      <td>Fantasy|Young Adult|Fairies|Fae</td>\n",
       "      <td>https://images.gr-assets.com/books/1493047153l...</td>\n",
       "      <td>370</td>\n",
       "    </tr>\n",
       "    <tr>\n",
       "      <td>3</td>\n",
       "      <td>A.J. Finn</td>\n",
       "      <td>Anna Fox lives alone—a recluse in her New York...</td>\n",
       "      <td>NaN</td>\n",
       "      <td>Kindle Edition</td>\n",
       "      <td>NaN</td>\n",
       "      <td>449 pages</td>\n",
       "      <td>3.97</td>\n",
       "      <td>175678</td>\n",
       "      <td>20645</td>\n",
       "      <td>The Woman in the Window</td>\n",
       "      <td>Mystery|Thriller|Fiction|Suspense|Thriller|Mys...</td>\n",
       "      <td>https://images.gr-assets.com/books/1528225499l...</td>\n",
       "      <td>449</td>\n",
       "    </tr>\n",
       "    <tr>\n",
       "      <td>4</td>\n",
       "      <td>Tara Westover</td>\n",
       "      <td>An unforgettable memoir in the tradition of Th...</td>\n",
       "      <td>NaN</td>\n",
       "      <td>Hardcover</td>\n",
       "      <td>9.780000e+12</td>\n",
       "      <td>334 pages</td>\n",
       "      <td>4.47</td>\n",
       "      <td>128337</td>\n",
       "      <td>16424</td>\n",
       "      <td>Educated</td>\n",
       "      <td>Nonfiction|Autobiography|Memoir|Biography</td>\n",
       "      <td>https://images.gr-assets.com/books/1506026635l...</td>\n",
       "      <td>334</td>\n",
       "    </tr>\n",
       "    <tr>\n",
       "      <td>...</td>\n",
       "      <td>...</td>\n",
       "      <td>...</td>\n",
       "      <td>...</td>\n",
       "      <td>...</td>\n",
       "      <td>...</td>\n",
       "      <td>...</td>\n",
       "      <td>...</td>\n",
       "      <td>...</td>\n",
       "      <td>...</td>\n",
       "      <td>...</td>\n",
       "      <td>...</td>\n",
       "      <td>...</td>\n",
       "      <td>...</td>\n",
       "    </tr>\n",
       "    <tr>\n",
       "      <td>1136</td>\n",
       "      <td>Alyssa Brandon</td>\n",
       "      <td>A teen werewolf finally meets her destined sou...</td>\n",
       "      <td>NaN</td>\n",
       "      <td>Hardcover</td>\n",
       "      <td>9.780000e+12</td>\n",
       "      <td>304 pages</td>\n",
       "      <td>3.33</td>\n",
       "      <td>359</td>\n",
       "      <td>88</td>\n",
       "      <td>Bound to You</td>\n",
       "      <td>Fantasy|Paranormal|Romance|Fantasy|Shapeshifte...</td>\n",
       "      <td>https://images.gr-assets.com/books/1508489753l...</td>\n",
       "      <td>304</td>\n",
       "    </tr>\n",
       "    <tr>\n",
       "      <td>1137</td>\n",
       "      <td>Crystal Hana Kim</td>\n",
       "      <td>An emotionally riveting debut novel about war,...</td>\n",
       "      <td>NaN</td>\n",
       "      <td>Hardcover</td>\n",
       "      <td>9.780000e+12</td>\n",
       "      <td>417 pages</td>\n",
       "      <td>3.69</td>\n",
       "      <td>1255</td>\n",
       "      <td>259</td>\n",
       "      <td>If You Leave Me</td>\n",
       "      <td>Historical|Historical Fiction|Fiction|Historic...</td>\n",
       "      <td>https://images.gr-assets.com/books/1508962755l...</td>\n",
       "      <td>417</td>\n",
       "    </tr>\n",
       "    <tr>\n",
       "      <td>1138</td>\n",
       "      <td>Leslie  Cohen</td>\n",
       "      <td>This is the classic tale of boy meets girl: Gi...</td>\n",
       "      <td>NaN</td>\n",
       "      <td>Kindle Edition</td>\n",
       "      <td>NaN</td>\n",
       "      <td>320 pages</td>\n",
       "      <td>3.40</td>\n",
       "      <td>1300</td>\n",
       "      <td>272</td>\n",
       "      <td>This Love Story Will Self-Destruct</td>\n",
       "      <td>Romance|Fiction|Womens Fiction|Chick Lit|Conte...</td>\n",
       "      <td>https://images.gr-assets.com/books/1503757123l...</td>\n",
       "      <td>320</td>\n",
       "    </tr>\n",
       "    <tr>\n",
       "      <td>1139</td>\n",
       "      <td>Sarah Beth Durst</td>\n",
       "      <td>The battle between vicious spirits and strong-...</td>\n",
       "      <td>NaN</td>\n",
       "      <td>Hardcover</td>\n",
       "      <td>9.780000e+12</td>\n",
       "      <td>419 pages</td>\n",
       "      <td>3.86</td>\n",
       "      <td>907</td>\n",
       "      <td>205</td>\n",
       "      <td>The Queen of Sorrow</td>\n",
       "      <td>Fantasy|Young Adult|Adult</td>\n",
       "      <td>https://images.gr-assets.com/books/1513185111l...</td>\n",
       "      <td>419</td>\n",
       "    </tr>\n",
       "    <tr>\n",
       "      <td>1140</td>\n",
       "      <td>Nisha Sharma</td>\n",
       "      <td>Winnie Mehta was never really convinced that R...</td>\n",
       "      <td>NaN</td>\n",
       "      <td>Hardcover</td>\n",
       "      <td>9.780000e+12</td>\n",
       "      <td>304 pages</td>\n",
       "      <td>3.64</td>\n",
       "      <td>1322</td>\n",
       "      <td>395</td>\n",
       "      <td>My So-Called Bollywood Life</td>\n",
       "      <td>Young Adult|Contemporary|Romance|Fiction|Young...</td>\n",
       "      <td>https://images.gr-assets.com/books/1510586092l...</td>\n",
       "      <td>304</td>\n",
       "    </tr>\n",
       "  </tbody>\n",
       "</table>\n",
       "<p>1071 rows × 13 columns</p>\n",
       "</div>"
      ],
      "text/plain": [
       "          book_authors                                          book_desc  \\\n",
       "0       Kristin Hannah  Alaska, 1974.Unpredictable. Unforgiving. Untam...   \n",
       "1      Madeline Miller  In the house of Helios, god of the sun and mig...   \n",
       "2          Holly Black  Of course I want to be like them. They’re beau...   \n",
       "3            A.J. Finn  Anna Fox lives alone—a recluse in her New York...   \n",
       "4        Tara Westover  An unforgettable memoir in the tradition of Th...   \n",
       "...                ...                                                ...   \n",
       "1136    Alyssa Brandon  A teen werewolf finally meets her destined sou...   \n",
       "1137  Crystal Hana Kim  An emotionally riveting debut novel about war,...   \n",
       "1138     Leslie  Cohen  This is the classic tale of boy meets girl: Gi...   \n",
       "1139  Sarah Beth Durst  The battle between vicious spirits and strong-...   \n",
       "1140      Nisha Sharma  Winnie Mehta was never really convinced that R...   \n",
       "\n",
       "     book_edition     book_format     book_isbn book_pages  book_rating  \\\n",
       "0             NaN  Kindle Edition           NaN  435 pages         4.33   \n",
       "1             NaN       Hardcover  9.780000e+12  393 pages         4.34   \n",
       "2             NaN       Hardcover  9.780000e+12  370 pages         4.18   \n",
       "3             NaN  Kindle Edition           NaN  449 pages         3.97   \n",
       "4             NaN       Hardcover  9.780000e+12  334 pages         4.47   \n",
       "...           ...             ...           ...        ...          ...   \n",
       "1136          NaN       Hardcover  9.780000e+12  304 pages         3.33   \n",
       "1137          NaN       Hardcover  9.780000e+12  417 pages         3.69   \n",
       "1138          NaN  Kindle Edition           NaN  320 pages         3.40   \n",
       "1139          NaN       Hardcover  9.780000e+12  419 pages         3.86   \n",
       "1140          NaN       Hardcover  9.780000e+12  304 pages         3.64   \n",
       "\n",
       "      book_rating_count  book_review_count  \\\n",
       "0                146505              17438   \n",
       "1                 61357               9369   \n",
       "2                 62897              11948   \n",
       "3                175678              20645   \n",
       "4                128337              16424   \n",
       "...                 ...                ...   \n",
       "1136                359                 88   \n",
       "1137               1255                259   \n",
       "1138               1300                272   \n",
       "1139                907                205   \n",
       "1140               1322                395   \n",
       "\n",
       "                              book_title  \\\n",
       "0                        The Great Alone   \n",
       "1                                  Circe   \n",
       "2                       The Cruel Prince   \n",
       "3                The Woman in the Window   \n",
       "4                               Educated   \n",
       "...                                  ...   \n",
       "1136                        Bound to You   \n",
       "1137                     If You Leave Me   \n",
       "1138  This Love Story Will Self-Destruct   \n",
       "1139                 The Queen of Sorrow   \n",
       "1140         My So-Called Bollywood Life   \n",
       "\n",
       "                                                 genres  \\\n",
       "0     Fiction|Historical|Historical Fiction|Audioboo...   \n",
       "1     Fantasy|Fiction|Fantasy|Mythology|Historical|H...   \n",
       "2                       Fantasy|Young Adult|Fairies|Fae   \n",
       "3     Mystery|Thriller|Fiction|Suspense|Thriller|Mys...   \n",
       "4             Nonfiction|Autobiography|Memoir|Biography   \n",
       "...                                                 ...   \n",
       "1136  Fantasy|Paranormal|Romance|Fantasy|Shapeshifte...   \n",
       "1137  Historical|Historical Fiction|Fiction|Historic...   \n",
       "1138  Romance|Fiction|Womens Fiction|Chick Lit|Conte...   \n",
       "1139                          Fantasy|Young Adult|Adult   \n",
       "1140  Young Adult|Contemporary|Romance|Fiction|Young...   \n",
       "\n",
       "                                              image_url book_pages_int  \n",
       "0     https://images.gr-assets.com/books/1501852423l...            435  \n",
       "1     https://images.gr-assets.com/books/1508879575l...            393  \n",
       "2     https://images.gr-assets.com/books/1493047153l...            370  \n",
       "3     https://images.gr-assets.com/books/1528225499l...            449  \n",
       "4     https://images.gr-assets.com/books/1506026635l...            334  \n",
       "...                                                 ...            ...  \n",
       "1136  https://images.gr-assets.com/books/1508489753l...            304  \n",
       "1137  https://images.gr-assets.com/books/1508962755l...            417  \n",
       "1138  https://images.gr-assets.com/books/1503757123l...            320  \n",
       "1139  https://images.gr-assets.com/books/1513185111l...            419  \n",
       "1140  https://images.gr-assets.com/books/1510586092l...            304  \n",
       "\n",
       "[1071 rows x 13 columns]"
      ]
     },
     "execution_count": 7,
     "metadata": {},
     "output_type": "execute_result"
    }
   ],
   "source": [
    "books"
   ]
  },
  {
   "cell_type": "code",
   "execution_count": 20,
   "metadata": {},
   "outputs": [],
   "source": [
    "#convert to integer\n",
    "books['book_pages_int'] = books['book_pages_int'].astype(str).astype(int)"
   ]
  },
  {
   "cell_type": "markdown",
   "metadata": {},
   "source": [
    "⁃\tQ5: What is the average number of pages? "
   ]
  },
  {
   "cell_type": "code",
   "execution_count": 21,
   "metadata": {},
   "outputs": [
    {
     "data": {
      "text/plain": [
       "327.9000933706816"
      ]
     },
     "execution_count": 21,
     "metadata": {},
     "output_type": "execute_result"
    }
   ],
   "source": [
    "books.book_pages_int.mean()"
   ]
  },
  {
   "cell_type": "markdown",
   "metadata": {},
   "source": [
    "⁃\tQ6: What is the median number of pages? "
   ]
  },
  {
   "cell_type": "code",
   "execution_count": 10,
   "metadata": {},
   "outputs": [
    {
     "data": {
      "text/plain": [
       "328.0"
      ]
     },
     "execution_count": 10,
     "metadata": {},
     "output_type": "execute_result"
    }
   ],
   "source": [
    "books.book_pages_int.median()"
   ]
  },
  {
   "cell_type": "markdown",
   "metadata": {},
   "source": [
    "⁃\tQ7: Does having more than 1 author result in a longer book on average? What is the average number of pages for books written by a single author? What is it for when there are at least two authors? (We will do more careful analysis for these types of questions later. For now, we just want you to practice using some DataFrame functionalities). "
   ]
  },
  {
   "cell_type": "code",
   "execution_count": 22,
   "metadata": {},
   "outputs": [
    {
     "data": {
      "text/plain": [
       "284.02962962962965"
      ]
     },
     "execution_count": 22,
     "metadata": {},
     "output_type": "execute_result"
    }
   ],
   "source": [
    "#Does having more than 1 author result in a longer book on average? \n",
    "books[books['book_authors'].str.contains('|', regex = False)].book_pages_int.mean()"
   ]
  },
  {
   "cell_type": "markdown",
   "metadata": {},
   "source": [
    "No, having more than 1 author doesn't result in a longer book on average"
   ]
  },
  {
   "cell_type": "code",
   "execution_count": 23,
   "metadata": {},
   "outputs": [
    {
     "data": {
      "text/plain": [
       "334.2275641025641"
      ]
     },
     "execution_count": 23,
     "metadata": {},
     "output_type": "execute_result"
    }
   ],
   "source": [
    "#What is the average number of pages for books written by a single author?\n",
    "books[~books['book_authors'].str.contains('|', regex = False)].book_pages_int.mean()"
   ]
  },
  {
   "cell_type": "code",
   "execution_count": 24,
   "metadata": {},
   "outputs": [
    {
     "data": {
      "text/plain": [
       "284.02962962962965"
      ]
     },
     "execution_count": 24,
     "metadata": {},
     "output_type": "execute_result"
    }
   ],
   "source": [
    "#What is it for when there are at least two authors?\n",
    "books[books['book_authors'].str.contains('|', regex = False)].book_pages_int.mean()"
   ]
  },
  {
   "cell_type": "markdown",
   "metadata": {},
   "source": [
    "⁃\tRatings: "
   ]
  },
  {
   "cell_type": "markdown",
   "metadata": {},
   "source": [
    "⁃\tQ8: How many books have at least a rating of 4.25? "
   ]
  },
  {
   "cell_type": "code",
   "execution_count": 14,
   "metadata": {},
   "outputs": [
    {
     "data": {
      "text/plain": [
       "274"
      ]
     },
     "execution_count": 14,
     "metadata": {},
     "output_type": "execute_result"
    }
   ],
   "source": [
    "len(books[books.book_rating >= 4.25])"
   ]
  },
  {
   "cell_type": "markdown",
   "metadata": {},
   "source": [
    "⁃\tQ9: How about at most a rating of 4? "
   ]
  },
  {
   "cell_type": "code",
   "execution_count": 15,
   "metadata": {},
   "outputs": [
    {
     "data": {
      "text/plain": [
       "477"
      ]
     },
     "execution_count": 15,
     "metadata": {},
     "output_type": "execute_result"
    }
   ],
   "source": [
    "len(books[books.book_rating <= 4])"
   ]
  },
  {
   "cell_type": "markdown",
   "metadata": {},
   "source": [
    "⁃\tQ10: Discretize the ratings. (1,2,3,4,5). "
   ]
  },
  {
   "cell_type": "code",
   "execution_count": 25,
   "metadata": {
    "scrolled": true
   },
   "outputs": [
    {
     "data": {
      "text/plain": [
       "0       (4, 5]\n",
       "1       (4, 5]\n",
       "2       (4, 5]\n",
       "3       (3, 4]\n",
       "4       (4, 5]\n",
       "         ...  \n",
       "1136    (3, 4]\n",
       "1137    (3, 4]\n",
       "1138    (3, 4]\n",
       "1139    (3, 4]\n",
       "1140    (3, 4]\n",
       "Name: book_rating, Length: 1071, dtype: category\n",
       "Categories (5, interval[int64]): [(0, 1] < (1, 2] < (2, 3] < (3, 4] < (4, 5]]"
      ]
     },
     "execution_count": 25,
     "metadata": {},
     "output_type": "execute_result"
    }
   ],
   "source": [
    "pd.cut(books.book_rating,[0,1,2,3,4,5])"
   ]
  },
  {
   "cell_type": "markdown",
   "metadata": {},
   "source": [
    "⁃\tQ11: For each of the discretized ratings (1,2,3,4,5), what is the average number of pages? "
   ]
  },
  {
   "cell_type": "code",
   "execution_count": 26,
   "metadata": {
    "scrolled": true
   },
   "outputs": [
    {
     "data": {
      "text/html": [
       "<div>\n",
       "<style scoped>\n",
       "    .dataframe tbody tr th:only-of-type {\n",
       "        vertical-align: middle;\n",
       "    }\n",
       "\n",
       "    .dataframe tbody tr th {\n",
       "        vertical-align: top;\n",
       "    }\n",
       "\n",
       "    .dataframe thead th {\n",
       "        text-align: right;\n",
       "    }\n",
       "</style>\n",
       "<table border=\"1\" class=\"dataframe\">\n",
       "  <thead>\n",
       "    <tr style=\"text-align: right;\">\n",
       "      <th></th>\n",
       "      <th>book_isbn</th>\n",
       "      <th>book_rating</th>\n",
       "      <th>book_rating_count</th>\n",
       "      <th>book_review_count</th>\n",
       "      <th>book_pages_int</th>\n",
       "    </tr>\n",
       "    <tr>\n",
       "      <th>book_rating</th>\n",
       "      <th></th>\n",
       "      <th></th>\n",
       "      <th></th>\n",
       "      <th></th>\n",
       "      <th></th>\n",
       "    </tr>\n",
       "  </thead>\n",
       "  <tbody>\n",
       "    <tr>\n",
       "      <td>(0, 1]</td>\n",
       "      <td>NaN</td>\n",
       "      <td>NaN</td>\n",
       "      <td>NaN</td>\n",
       "      <td>NaN</td>\n",
       "      <td>NaN</td>\n",
       "    </tr>\n",
       "    <tr>\n",
       "      <td>(1, 2]</td>\n",
       "      <td>NaN</td>\n",
       "      <td>NaN</td>\n",
       "      <td>NaN</td>\n",
       "      <td>NaN</td>\n",
       "      <td>NaN</td>\n",
       "    </tr>\n",
       "    <tr>\n",
       "      <td>(2, 3]</td>\n",
       "      <td>9.780000e+12</td>\n",
       "      <td>2.916667</td>\n",
       "      <td>1448.666667</td>\n",
       "      <td>251.333333</td>\n",
       "      <td>285.333333</td>\n",
       "    </tr>\n",
       "    <tr>\n",
       "      <td>(3, 4]</td>\n",
       "      <td>9.780000e+12</td>\n",
       "      <td>3.732257</td>\n",
       "      <td>5894.021097</td>\n",
       "      <td>925.540084</td>\n",
       "      <td>319.407173</td>\n",
       "    </tr>\n",
       "    <tr>\n",
       "      <td>(4, 5]</td>\n",
       "      <td>9.780031e+12</td>\n",
       "      <td>4.257542</td>\n",
       "      <td>5992.313131</td>\n",
       "      <td>912.257576</td>\n",
       "      <td>334.892256</td>\n",
       "    </tr>\n",
       "  </tbody>\n",
       "</table>\n",
       "</div>"
      ],
      "text/plain": [
       "                book_isbn  book_rating  book_rating_count  book_review_count  \\\n",
       "book_rating                                                                    \n",
       "(0, 1]                NaN          NaN                NaN                NaN   \n",
       "(1, 2]                NaN          NaN                NaN                NaN   \n",
       "(2, 3]       9.780000e+12     2.916667        1448.666667         251.333333   \n",
       "(3, 4]       9.780000e+12     3.732257        5894.021097         925.540084   \n",
       "(4, 5]       9.780031e+12     4.257542        5992.313131         912.257576   \n",
       "\n",
       "             book_pages_int  \n",
       "book_rating                  \n",
       "(0, 1]                  NaN  \n",
       "(1, 2]                  NaN  \n",
       "(2, 3]           285.333333  \n",
       "(3, 4]           319.407173  \n",
       "(4, 5]           334.892256  "
      ]
     },
     "execution_count": 26,
     "metadata": {},
     "output_type": "execute_result"
    }
   ],
   "source": [
    "books.groupby(pd.cut(books.book_rating, [0,1,2,3,4,5])).mean()"
   ]
  },
  {
   "cell_type": "markdown",
   "metadata": {},
   "source": [
    "⁃\tQ12: How about the average number of reviews? "
   ]
  },
  {
   "cell_type": "code",
   "execution_count": 18,
   "metadata": {},
   "outputs": [
    {
     "data": {
      "text/plain": [
       "916.2847805788982"
      ]
     },
     "execution_count": 18,
     "metadata": {},
     "output_type": "execute_result"
    }
   ],
   "source": [
    "books.book_review_count.mean()"
   ]
  },
  {
   "cell_type": "markdown",
   "metadata": {},
   "source": [
    "⁃\tGenres: "
   ]
  },
  {
   "cell_type": "markdown",
   "metadata": {},
   "source": [
    "⁃\tQ13: Create a new DataFrame, exploding the rows with multiple genres such that it is one row per genre/book. "
   ]
  },
  {
   "cell_type": "code",
   "execution_count": 56,
   "metadata": {},
   "outputs": [],
   "source": [
    "new_df = pd.DataFrame(books['genres'].str.split(\"|\", expand=True).values.tolist()).stack()"
   ]
  },
  {
   "cell_type": "code",
   "execution_count": 63,
   "metadata": {},
   "outputs": [],
   "source": [
    "new_df1 = pd.DataFrame(new_df).reset_index(level=1,drop=True)"
   ]
  },
  {
   "cell_type": "code",
   "execution_count": 74,
   "metadata": {},
   "outputs": [],
   "source": [
    "new_df2 = new_df1.loc[:,[0]]\n",
    "new_books = books.join(new_df2)"
   ]
  },
  {
   "cell_type": "code",
   "execution_count": 76,
   "metadata": {},
   "outputs": [
    {
     "data": {
      "text/html": [
       "<div>\n",
       "<style scoped>\n",
       "    .dataframe tbody tr th:only-of-type {\n",
       "        vertical-align: middle;\n",
       "    }\n",
       "\n",
       "    .dataframe tbody tr th {\n",
       "        vertical-align: top;\n",
       "    }\n",
       "\n",
       "    .dataframe thead th {\n",
       "        text-align: right;\n",
       "    }\n",
       "</style>\n",
       "<table border=\"1\" class=\"dataframe\">\n",
       "  <thead>\n",
       "    <tr style=\"text-align: right;\">\n",
       "      <th></th>\n",
       "      <th>book_authors</th>\n",
       "      <th>book_desc</th>\n",
       "      <th>book_edition</th>\n",
       "      <th>book_format</th>\n",
       "      <th>book_isbn</th>\n",
       "      <th>book_pages</th>\n",
       "      <th>book_rating</th>\n",
       "      <th>book_rating_count</th>\n",
       "      <th>book_review_count</th>\n",
       "      <th>book_title</th>\n",
       "      <th>genres</th>\n",
       "      <th>image_url</th>\n",
       "      <th>book_pages_int</th>\n",
       "      <th>0</th>\n",
       "    </tr>\n",
       "  </thead>\n",
       "  <tbody>\n",
       "    <tr>\n",
       "      <td>0</td>\n",
       "      <td>Kristin Hannah</td>\n",
       "      <td>Alaska, 1974.Unpredictable. Unforgiving. Untam...</td>\n",
       "      <td>NaN</td>\n",
       "      <td>Kindle Edition</td>\n",
       "      <td>NaN</td>\n",
       "      <td>435 pages</td>\n",
       "      <td>4.33</td>\n",
       "      <td>146505</td>\n",
       "      <td>17438</td>\n",
       "      <td>The Great Alone</td>\n",
       "      <td>Fiction|Historical|Historical Fiction|Audioboo...</td>\n",
       "      <td>https://images.gr-assets.com/books/1501852423l...</td>\n",
       "      <td>435</td>\n",
       "      <td>Fiction</td>\n",
       "    </tr>\n",
       "    <tr>\n",
       "      <td>0</td>\n",
       "      <td>Kristin Hannah</td>\n",
       "      <td>Alaska, 1974.Unpredictable. Unforgiving. Untam...</td>\n",
       "      <td>NaN</td>\n",
       "      <td>Kindle Edition</td>\n",
       "      <td>NaN</td>\n",
       "      <td>435 pages</td>\n",
       "      <td>4.33</td>\n",
       "      <td>146505</td>\n",
       "      <td>17438</td>\n",
       "      <td>The Great Alone</td>\n",
       "      <td>Fiction|Historical|Historical Fiction|Audioboo...</td>\n",
       "      <td>https://images.gr-assets.com/books/1501852423l...</td>\n",
       "      <td>435</td>\n",
       "      <td>Historical</td>\n",
       "    </tr>\n",
       "    <tr>\n",
       "      <td>0</td>\n",
       "      <td>Kristin Hannah</td>\n",
       "      <td>Alaska, 1974.Unpredictable. Unforgiving. Untam...</td>\n",
       "      <td>NaN</td>\n",
       "      <td>Kindle Edition</td>\n",
       "      <td>NaN</td>\n",
       "      <td>435 pages</td>\n",
       "      <td>4.33</td>\n",
       "      <td>146505</td>\n",
       "      <td>17438</td>\n",
       "      <td>The Great Alone</td>\n",
       "      <td>Fiction|Historical|Historical Fiction|Audioboo...</td>\n",
       "      <td>https://images.gr-assets.com/books/1501852423l...</td>\n",
       "      <td>435</td>\n",
       "      <td>Historical Fiction</td>\n",
       "    </tr>\n",
       "    <tr>\n",
       "      <td>0</td>\n",
       "      <td>Kristin Hannah</td>\n",
       "      <td>Alaska, 1974.Unpredictable. Unforgiving. Untam...</td>\n",
       "      <td>NaN</td>\n",
       "      <td>Kindle Edition</td>\n",
       "      <td>NaN</td>\n",
       "      <td>435 pages</td>\n",
       "      <td>4.33</td>\n",
       "      <td>146505</td>\n",
       "      <td>17438</td>\n",
       "      <td>The Great Alone</td>\n",
       "      <td>Fiction|Historical|Historical Fiction|Audioboo...</td>\n",
       "      <td>https://images.gr-assets.com/books/1501852423l...</td>\n",
       "      <td>435</td>\n",
       "      <td>Audiobook</td>\n",
       "    </tr>\n",
       "    <tr>\n",
       "      <td>0</td>\n",
       "      <td>Kristin Hannah</td>\n",
       "      <td>Alaska, 1974.Unpredictable. Unforgiving. Untam...</td>\n",
       "      <td>NaN</td>\n",
       "      <td>Kindle Edition</td>\n",
       "      <td>NaN</td>\n",
       "      <td>435 pages</td>\n",
       "      <td>4.33</td>\n",
       "      <td>146505</td>\n",
       "      <td>17438</td>\n",
       "      <td>The Great Alone</td>\n",
       "      <td>Fiction|Historical|Historical Fiction|Audioboo...</td>\n",
       "      <td>https://images.gr-assets.com/books/1501852423l...</td>\n",
       "      <td>435</td>\n",
       "      <td>Historical</td>\n",
       "    </tr>\n",
       "    <tr>\n",
       "      <td>...</td>\n",
       "      <td>...</td>\n",
       "      <td>...</td>\n",
       "      <td>...</td>\n",
       "      <td>...</td>\n",
       "      <td>...</td>\n",
       "      <td>...</td>\n",
       "      <td>...</td>\n",
       "      <td>...</td>\n",
       "      <td>...</td>\n",
       "      <td>...</td>\n",
       "      <td>...</td>\n",
       "      <td>...</td>\n",
       "      <td>...</td>\n",
       "      <td>...</td>\n",
       "    </tr>\n",
       "    <tr>\n",
       "      <td>1136</td>\n",
       "      <td>Alyssa Brandon</td>\n",
       "      <td>A teen werewolf finally meets her destined sou...</td>\n",
       "      <td>NaN</td>\n",
       "      <td>Hardcover</td>\n",
       "      <td>9.780000e+12</td>\n",
       "      <td>304 pages</td>\n",
       "      <td>3.33</td>\n",
       "      <td>359</td>\n",
       "      <td>88</td>\n",
       "      <td>Bound to You</td>\n",
       "      <td>Fantasy|Paranormal|Romance|Fantasy|Shapeshifte...</td>\n",
       "      <td>https://images.gr-assets.com/books/1508489753l...</td>\n",
       "      <td>304</td>\n",
       "      <td>NaN</td>\n",
       "    </tr>\n",
       "    <tr>\n",
       "      <td>1137</td>\n",
       "      <td>Crystal Hana Kim</td>\n",
       "      <td>An emotionally riveting debut novel about war,...</td>\n",
       "      <td>NaN</td>\n",
       "      <td>Hardcover</td>\n",
       "      <td>9.780000e+12</td>\n",
       "      <td>417 pages</td>\n",
       "      <td>3.69</td>\n",
       "      <td>1255</td>\n",
       "      <td>259</td>\n",
       "      <td>If You Leave Me</td>\n",
       "      <td>Historical|Historical Fiction|Fiction|Historic...</td>\n",
       "      <td>https://images.gr-assets.com/books/1508962755l...</td>\n",
       "      <td>417</td>\n",
       "      <td>NaN</td>\n",
       "    </tr>\n",
       "    <tr>\n",
       "      <td>1138</td>\n",
       "      <td>Leslie  Cohen</td>\n",
       "      <td>This is the classic tale of boy meets girl: Gi...</td>\n",
       "      <td>NaN</td>\n",
       "      <td>Kindle Edition</td>\n",
       "      <td>NaN</td>\n",
       "      <td>320 pages</td>\n",
       "      <td>3.40</td>\n",
       "      <td>1300</td>\n",
       "      <td>272</td>\n",
       "      <td>This Love Story Will Self-Destruct</td>\n",
       "      <td>Romance|Fiction|Womens Fiction|Chick Lit|Conte...</td>\n",
       "      <td>https://images.gr-assets.com/books/1503757123l...</td>\n",
       "      <td>320</td>\n",
       "      <td>NaN</td>\n",
       "    </tr>\n",
       "    <tr>\n",
       "      <td>1139</td>\n",
       "      <td>Sarah Beth Durst</td>\n",
       "      <td>The battle between vicious spirits and strong-...</td>\n",
       "      <td>NaN</td>\n",
       "      <td>Hardcover</td>\n",
       "      <td>9.780000e+12</td>\n",
       "      <td>419 pages</td>\n",
       "      <td>3.86</td>\n",
       "      <td>907</td>\n",
       "      <td>205</td>\n",
       "      <td>The Queen of Sorrow</td>\n",
       "      <td>Fantasy|Young Adult|Adult</td>\n",
       "      <td>https://images.gr-assets.com/books/1513185111l...</td>\n",
       "      <td>419</td>\n",
       "      <td>NaN</td>\n",
       "    </tr>\n",
       "    <tr>\n",
       "      <td>1140</td>\n",
       "      <td>Nisha Sharma</td>\n",
       "      <td>Winnie Mehta was never really convinced that R...</td>\n",
       "      <td>NaN</td>\n",
       "      <td>Hardcover</td>\n",
       "      <td>9.780000e+12</td>\n",
       "      <td>304 pages</td>\n",
       "      <td>3.64</td>\n",
       "      <td>1322</td>\n",
       "      <td>395</td>\n",
       "      <td>My So-Called Bollywood Life</td>\n",
       "      <td>Young Adult|Contemporary|Romance|Fiction|Young...</td>\n",
       "      <td>https://images.gr-assets.com/books/1510586092l...</td>\n",
       "      <td>304</td>\n",
       "      <td>NaN</td>\n",
       "    </tr>\n",
       "  </tbody>\n",
       "</table>\n",
       "<p>5895 rows × 14 columns</p>\n",
       "</div>"
      ],
      "text/plain": [
       "          book_authors                                          book_desc  \\\n",
       "0       Kristin Hannah  Alaska, 1974.Unpredictable. Unforgiving. Untam...   \n",
       "0       Kristin Hannah  Alaska, 1974.Unpredictable. Unforgiving. Untam...   \n",
       "0       Kristin Hannah  Alaska, 1974.Unpredictable. Unforgiving. Untam...   \n",
       "0       Kristin Hannah  Alaska, 1974.Unpredictable. Unforgiving. Untam...   \n",
       "0       Kristin Hannah  Alaska, 1974.Unpredictable. Unforgiving. Untam...   \n",
       "...                ...                                                ...   \n",
       "1136    Alyssa Brandon  A teen werewolf finally meets her destined sou...   \n",
       "1137  Crystal Hana Kim  An emotionally riveting debut novel about war,...   \n",
       "1138     Leslie  Cohen  This is the classic tale of boy meets girl: Gi...   \n",
       "1139  Sarah Beth Durst  The battle between vicious spirits and strong-...   \n",
       "1140      Nisha Sharma  Winnie Mehta was never really convinced that R...   \n",
       "\n",
       "     book_edition     book_format     book_isbn book_pages  book_rating  \\\n",
       "0             NaN  Kindle Edition           NaN  435 pages         4.33   \n",
       "0             NaN  Kindle Edition           NaN  435 pages         4.33   \n",
       "0             NaN  Kindle Edition           NaN  435 pages         4.33   \n",
       "0             NaN  Kindle Edition           NaN  435 pages         4.33   \n",
       "0             NaN  Kindle Edition           NaN  435 pages         4.33   \n",
       "...           ...             ...           ...        ...          ...   \n",
       "1136          NaN       Hardcover  9.780000e+12  304 pages         3.33   \n",
       "1137          NaN       Hardcover  9.780000e+12  417 pages         3.69   \n",
       "1138          NaN  Kindle Edition           NaN  320 pages         3.40   \n",
       "1139          NaN       Hardcover  9.780000e+12  419 pages         3.86   \n",
       "1140          NaN       Hardcover  9.780000e+12  304 pages         3.64   \n",
       "\n",
       "      book_rating_count  book_review_count  \\\n",
       "0                146505              17438   \n",
       "0                146505              17438   \n",
       "0                146505              17438   \n",
       "0                146505              17438   \n",
       "0                146505              17438   \n",
       "...                 ...                ...   \n",
       "1136                359                 88   \n",
       "1137               1255                259   \n",
       "1138               1300                272   \n",
       "1139                907                205   \n",
       "1140               1322                395   \n",
       "\n",
       "                              book_title  \\\n",
       "0                        The Great Alone   \n",
       "0                        The Great Alone   \n",
       "0                        The Great Alone   \n",
       "0                        The Great Alone   \n",
       "0                        The Great Alone   \n",
       "...                                  ...   \n",
       "1136                        Bound to You   \n",
       "1137                     If You Leave Me   \n",
       "1138  This Love Story Will Self-Destruct   \n",
       "1139                 The Queen of Sorrow   \n",
       "1140         My So-Called Bollywood Life   \n",
       "\n",
       "                                                 genres  \\\n",
       "0     Fiction|Historical|Historical Fiction|Audioboo...   \n",
       "0     Fiction|Historical|Historical Fiction|Audioboo...   \n",
       "0     Fiction|Historical|Historical Fiction|Audioboo...   \n",
       "0     Fiction|Historical|Historical Fiction|Audioboo...   \n",
       "0     Fiction|Historical|Historical Fiction|Audioboo...   \n",
       "...                                                 ...   \n",
       "1136  Fantasy|Paranormal|Romance|Fantasy|Shapeshifte...   \n",
       "1137  Historical|Historical Fiction|Fiction|Historic...   \n",
       "1138  Romance|Fiction|Womens Fiction|Chick Lit|Conte...   \n",
       "1139                          Fantasy|Young Adult|Adult   \n",
       "1140  Young Adult|Contemporary|Romance|Fiction|Young...   \n",
       "\n",
       "                                              image_url  book_pages_int  \\\n",
       "0     https://images.gr-assets.com/books/1501852423l...             435   \n",
       "0     https://images.gr-assets.com/books/1501852423l...             435   \n",
       "0     https://images.gr-assets.com/books/1501852423l...             435   \n",
       "0     https://images.gr-assets.com/books/1501852423l...             435   \n",
       "0     https://images.gr-assets.com/books/1501852423l...             435   \n",
       "...                                                 ...             ...   \n",
       "1136  https://images.gr-assets.com/books/1508489753l...             304   \n",
       "1137  https://images.gr-assets.com/books/1508962755l...             417   \n",
       "1138  https://images.gr-assets.com/books/1503757123l...             320   \n",
       "1139  https://images.gr-assets.com/books/1513185111l...             419   \n",
       "1140  https://images.gr-assets.com/books/1510586092l...             304   \n",
       "\n",
       "                       0  \n",
       "0                Fiction  \n",
       "0             Historical  \n",
       "0     Historical Fiction  \n",
       "0              Audiobook  \n",
       "0             Historical  \n",
       "...                  ...  \n",
       "1136                 NaN  \n",
       "1137                 NaN  \n",
       "1138                 NaN  \n",
       "1139                 NaN  \n",
       "1140                 NaN  \n",
       "\n",
       "[5895 rows x 14 columns]"
      ]
     },
     "execution_count": 76,
     "metadata": {},
     "output_type": "execute_result"
    }
   ],
   "source": [
    "new_books"
   ]
  },
  {
   "cell_type": "markdown",
   "metadata": {},
   "source": [
    "⁃\tQ14: What is the average rating of books from different genres? What is the median? "
   ]
  },
  {
   "cell_type": "code",
   "execution_count": 77,
   "metadata": {
    "scrolled": true
   },
   "outputs": [
    {
     "data": {
      "text/plain": [
       "0\n",
       "16th Century                      4.190000\n",
       "Abandoned                         4.076667\n",
       "Abuse                             4.010000\n",
       "Academic                          3.718000\n",
       "Activism                          4.190000\n",
       "                                    ...   \n",
       "Young Adult                       4.025833\n",
       "Young Adult Contemporary          4.115714\n",
       "Young Adult Fantasy               3.890000\n",
       "Young Adult Historical Fiction    3.670000\n",
       "Young Adult Romance               3.600000\n",
       "Name: book_rating, Length: 261, dtype: float64"
      ]
     },
     "execution_count": 77,
     "metadata": {},
     "output_type": "execute_result"
    }
   ],
   "source": [
    "new_books.groupby(0).book_rating.mean()"
   ]
  },
  {
   "cell_type": "code",
   "execution_count": 78,
   "metadata": {},
   "outputs": [
    {
     "data": {
      "text/plain": [
       "0\n",
       "16th Century                      4.190\n",
       "Abandoned                         3.985\n",
       "Abuse                             3.995\n",
       "Academic                          3.810\n",
       "Activism                          4.190\n",
       "                                  ...  \n",
       "Young Adult                       4.070\n",
       "Young Adult Contemporary          4.080\n",
       "Young Adult Fantasy               3.880\n",
       "Young Adult Historical Fiction    3.670\n",
       "Young Adult Romance               3.600\n",
       "Name: book_rating, Length: 261, dtype: float64"
      ]
     },
     "execution_count": 78,
     "metadata": {},
     "output_type": "execute_result"
    }
   ],
   "source": [
    "new_books.groupby(0).book_rating.median()"
   ]
  },
  {
   "cell_type": "markdown",
   "metadata": {},
   "source": [
    "⁃\tQ15: What is the average length of books from different genres? What is the median? "
   ]
  },
  {
   "cell_type": "code",
   "execution_count": 80,
   "metadata": {
    "scrolled": true
   },
   "outputs": [
    {
     "data": {
      "text/plain": [
       "0\n",
       "16th Century                      128.000000\n",
       "Abandoned                         300.166667\n",
       "Abuse                             337.000000\n",
       "Academic                          343.600000\n",
       "Activism                          240.000000\n",
       "                                     ...    \n",
       "Young Adult                       341.884259\n",
       "Young Adult Contemporary          410.857143\n",
       "Young Adult Fantasy               301.800000\n",
       "Young Adult Historical Fiction    368.000000\n",
       "Young Adult Romance               146.000000\n",
       "Name: book_pages_int, Length: 261, dtype: float64"
      ]
     },
     "execution_count": 80,
     "metadata": {},
     "output_type": "execute_result"
    }
   ],
   "source": [
    "new_books.groupby(0).book_pages_int.mean()"
   ]
  },
  {
   "cell_type": "code",
   "execution_count": 81,
   "metadata": {},
   "outputs": [
    {
     "data": {
      "text/plain": [
       "0\n",
       "16th Century                      128.0\n",
       "Abandoned                         318.0\n",
       "Abuse                             340.0\n",
       "Academic                          352.0\n",
       "Activism                          240.0\n",
       "                                  ...  \n",
       "Young Adult                       343.5\n",
       "Young Adult Contemporary          359.0\n",
       "Young Adult Fantasy               296.0\n",
       "Young Adult Historical Fiction    368.0\n",
       "Young Adult Romance               146.0\n",
       "Name: book_pages_int, Length: 261, dtype: float64"
      ]
     },
     "execution_count": 81,
     "metadata": {},
     "output_type": "execute_result"
    }
   ],
   "source": [
    "new_books.groupby(0).book_pages_int.median()"
   ]
  }
 ],
 "metadata": {
  "kernelspec": {
   "display_name": "Python 3",
   "language": "python",
   "name": "python3"
  },
  "language_info": {
   "codemirror_mode": {
    "name": "ipython",
    "version": 3
   },
   "file_extension": ".py",
   "mimetype": "text/x-python",
   "name": "python",
   "nbconvert_exporter": "python",
   "pygments_lexer": "ipython3",
   "version": "3.7.1"
  }
 },
 "nbformat": 4,
 "nbformat_minor": 2
}
